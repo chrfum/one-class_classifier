{
 "cells": [
  {
   "cell_type": "code",
   "execution_count": 1,
   "metadata": {},
   "outputs": [],
   "source": [
    "import pandas as pd \n",
    "import numpy as np \n",
    "import matplotlib.pyplot as plt"
   ]
  },
  {
   "cell_type": "code",
   "execution_count": 2,
   "metadata": {},
   "outputs": [
    {
     "data": {
      "text/html": [
       "<div>\n",
       "<style scoped>\n",
       "    .dataframe tbody tr th:only-of-type {\n",
       "        vertical-align: middle;\n",
       "    }\n",
       "\n",
       "    .dataframe tbody tr th {\n",
       "        vertical-align: top;\n",
       "    }\n",
       "\n",
       "    .dataframe thead th {\n",
       "        text-align: right;\n",
       "    }\n",
       "</style>\n",
       "<table border=\"1\" class=\"dataframe\">\n",
       "  <thead>\n",
       "    <tr style=\"text-align: right;\">\n",
       "      <th></th>\n",
       "      <th>VERBALE</th>\n",
       "      <th>DATA</th>\n",
       "      <th>SESSO</th>\n",
       "      <th>ANNI</th>\n",
       "      <th>PESO</th>\n",
       "      <th>ALTEZZA</th>\n",
       "      <th>BMI</th>\n",
       "      <th>Mezzo</th>\n",
       "      <th>Testa:Neurocranio</th>\n",
       "      <th>Testa:Splancnocranio</th>\n",
       "      <th>...</th>\n",
       "      <th>II raggio sx.1</th>\n",
       "      <th>III raggio sx.1</th>\n",
       "      <th>IV raggio sx.1</th>\n",
       "      <th>V raggio sx.1</th>\n",
       "      <th>Art. coxo-femorale dx</th>\n",
       "      <th>Art. coxo-femorale sx</th>\n",
       "      <th>Rotula o Ginocchio dx</th>\n",
       "      <th>Rotula o Ginocchio sx</th>\n",
       "      <th>Caviglia dx</th>\n",
       "      <th>Caviglia sx</th>\n",
       "    </tr>\n",
       "  </thead>\n",
       "  <tbody>\n",
       "    <tr>\n",
       "      <th>0</th>\n",
       "      <td>85567</td>\n",
       "      <td>10/29/1999</td>\n",
       "      <td>0</td>\n",
       "      <td>81</td>\n",
       "      <td>84</td>\n",
       "      <td>1,75</td>\n",
       "      <td>27,4285714285714</td>\n",
       "      <td>0</td>\n",
       "      <td>1</td>\n",
       "      <td>0</td>\n",
       "      <td>...</td>\n",
       "      <td>0</td>\n",
       "      <td>0</td>\n",
       "      <td>0</td>\n",
       "      <td>0</td>\n",
       "      <td>0</td>\n",
       "      <td>0</td>\n",
       "      <td>0</td>\n",
       "      <td>0</td>\n",
       "      <td>0</td>\n",
       "      <td>0</td>\n",
       "    </tr>\n",
       "    <tr>\n",
       "      <th>1</th>\n",
       "      <td>85829</td>\n",
       "      <td>1/14/2000</td>\n",
       "      <td>1</td>\n",
       "      <td>69</td>\n",
       "      <td>69</td>\n",
       "      <td>1,62</td>\n",
       "      <td>26,291723822588</td>\n",
       "      <td>1</td>\n",
       "      <td>4</td>\n",
       "      <td>4</td>\n",
       "      <td>...</td>\n",
       "      <td>0</td>\n",
       "      <td>0</td>\n",
       "      <td>0</td>\n",
       "      <td>0</td>\n",
       "      <td>0</td>\n",
       "      <td>0</td>\n",
       "      <td>0</td>\n",
       "      <td>0</td>\n",
       "      <td>0</td>\n",
       "      <td>0</td>\n",
       "    </tr>\n",
       "    <tr>\n",
       "      <th>2</th>\n",
       "      <td>85977</td>\n",
       "      <td>3/10/2000</td>\n",
       "      <td>1</td>\n",
       "      <td>71</td>\n",
       "      <td>67</td>\n",
       "      <td>1,55</td>\n",
       "      <td>27,8876170655567</td>\n",
       "      <td>1</td>\n",
       "      <td>2</td>\n",
       "      <td>0</td>\n",
       "      <td>...</td>\n",
       "      <td>0</td>\n",
       "      <td>0</td>\n",
       "      <td>0</td>\n",
       "      <td>0</td>\n",
       "      <td>0</td>\n",
       "      <td>0</td>\n",
       "      <td>0</td>\n",
       "      <td>0</td>\n",
       "      <td>0</td>\n",
       "      <td>0</td>\n",
       "    </tr>\n",
       "    <tr>\n",
       "      <th>3</th>\n",
       "      <td>86220</td>\n",
       "      <td>6/14/2000</td>\n",
       "      <td>1</td>\n",
       "      <td>54</td>\n",
       "      <td>60</td>\n",
       "      <td>1,59</td>\n",
       "      <td>23,7332384003797</td>\n",
       "      <td>1</td>\n",
       "      <td>4</td>\n",
       "      <td>0</td>\n",
       "      <td>...</td>\n",
       "      <td>0</td>\n",
       "      <td>0</td>\n",
       "      <td>0</td>\n",
       "      <td>0</td>\n",
       "      <td>0</td>\n",
       "      <td>0</td>\n",
       "      <td>0</td>\n",
       "      <td>0</td>\n",
       "      <td>0</td>\n",
       "      <td>0</td>\n",
       "    </tr>\n",
       "    <tr>\n",
       "      <th>4</th>\n",
       "      <td>86247</td>\n",
       "      <td>6/22/2000</td>\n",
       "      <td>1</td>\n",
       "      <td>78</td>\n",
       "      <td>69</td>\n",
       "      <td>1,67</td>\n",
       "      <td>24,7409372871024</td>\n",
       "      <td>1</td>\n",
       "      <td>2</td>\n",
       "      <td>0</td>\n",
       "      <td>...</td>\n",
       "      <td>0</td>\n",
       "      <td>0</td>\n",
       "      <td>0</td>\n",
       "      <td>0</td>\n",
       "      <td>0</td>\n",
       "      <td>0</td>\n",
       "      <td>0</td>\n",
       "      <td>0</td>\n",
       "      <td>0</td>\n",
       "      <td>0</td>\n",
       "    </tr>\n",
       "  </tbody>\n",
       "</table>\n",
       "<p>5 rows × 367 columns</p>\n",
       "</div>"
      ],
      "text/plain": [
       "  VERBALE        DATA  SESSO  ANNI PESO ALTEZZA               BMI  Mezzo  \\\n",
       "0   85567  10/29/1999      0    81   84    1,75  27,4285714285714      0   \n",
       "1   85829   1/14/2000      1    69   69    1,62   26,291723822588      1   \n",
       "2   85977   3/10/2000      1    71   67    1,55  27,8876170655567      1   \n",
       "3   86220   6/14/2000      1    54   60    1,59  23,7332384003797      1   \n",
       "4   86247   6/22/2000      1    78   69    1,67  24,7409372871024      1   \n",
       "\n",
       "   Testa:Neurocranio  Testa:Splancnocranio  ...  II raggio sx.1  \\\n",
       "0                  1                     0  ...               0   \n",
       "1                  4                     4  ...               0   \n",
       "2                  2                     0  ...               0   \n",
       "3                  4                     0  ...               0   \n",
       "4                  2                     0  ...               0   \n",
       "\n",
       "   III raggio sx.1  IV raggio sx.1  V raggio sx.1  Art. coxo-femorale dx  \\\n",
       "0                0               0              0                      0   \n",
       "1                0               0              0                      0   \n",
       "2                0               0              0                      0   \n",
       "3                0               0              0                      0   \n",
       "4                0               0              0                      0   \n",
       "\n",
       "   Art. coxo-femorale sx  Rotula o Ginocchio dx  Rotula o Ginocchio sx  \\\n",
       "0                      0                      0                      0   \n",
       "1                      0                      0                      0   \n",
       "2                      0                      0                      0   \n",
       "3                      0                      0                      0   \n",
       "4                      0                      0                      0   \n",
       "\n",
       "   Caviglia dx  Caviglia sx  \n",
       "0            0            0  \n",
       "1            0            0  \n",
       "2            0            0  \n",
       "3            0            0  \n",
       "4            0            0  \n",
       "\n",
       "[5 rows x 367 columns]"
      ]
     },
     "execution_count": 2,
     "metadata": {},
     "output_type": "execute_result"
    }
   ],
   "source": [
    "df = pd.read_csv(\"../data/run-over-dataset.csv\")\n",
    "df.head()"
   ]
  },
  {
   "cell_type": "code",
   "execution_count": 3,
   "metadata": {},
   "outputs": [
    {
     "name": "stdout",
     "output_type": "stream",
     "text": [
      "0\n"
     ]
    }
   ],
   "source": [
    "num_null_els = 0\n",
    "for column in df.columns:\n",
    "    num_null_els += sum(df[column].isnull().any() for column in df.columns)\n",
    "    \n",
    "print(num_null_els)"
   ]
  },
  {
   "cell_type": "code",
   "execution_count": 4,
   "metadata": {},
   "outputs": [
    {
     "data": {
      "text/plain": [
       "((130, 363), (130,))"
      ]
     },
     "execution_count": 4,
     "metadata": {},
     "output_type": "execute_result"
    }
   ],
   "source": [
    "cols_to_drop = ['Mezzo', 'VERBALE', 'DATA', 'BMI']\n",
    "X, y =df.drop(columns=cols_to_drop), df['Mezzo']\n",
    "X.shape, y.shape"
   ]
  },
  {
   "cell_type": "code",
   "execution_count": 5,
   "metadata": {},
   "outputs": [],
   "source": [
    "X['ALTEZZA'] = [int(float(h.replace(',', '.'))*100) for h in X['ALTEZZA']]\n",
    "X['PESO'] = [int(float(str(h).replace(',', '.'))) for h in X['ALTEZZA']]"
   ]
  },
  {
   "cell_type": "code",
   "execution_count": 6,
   "metadata": {},
   "outputs": [
    {
     "data": {
      "text/html": [
       "<div>\n",
       "<style scoped>\n",
       "    .dataframe tbody tr th:only-of-type {\n",
       "        vertical-align: middle;\n",
       "    }\n",
       "\n",
       "    .dataframe tbody tr th {\n",
       "        vertical-align: top;\n",
       "    }\n",
       "\n",
       "    .dataframe thead th {\n",
       "        text-align: right;\n",
       "    }\n",
       "</style>\n",
       "<table border=\"1\" class=\"dataframe\">\n",
       "  <thead>\n",
       "    <tr style=\"text-align: right;\">\n",
       "      <th></th>\n",
       "      <th>SESSO</th>\n",
       "      <th>ANNI</th>\n",
       "      <th>PESO</th>\n",
       "      <th>ALTEZZA</th>\n",
       "      <th>Testa:Neurocranio</th>\n",
       "      <th>Testa:Splancnocranio</th>\n",
       "      <th>Testa:Telencefalo</th>\n",
       "      <th>Testa:Cervelletto</th>\n",
       "      <th>Testa:Tronco encefalico</th>\n",
       "      <th>Torace:Polmoni</th>\n",
       "      <th>...</th>\n",
       "      <th>II raggio sx.1</th>\n",
       "      <th>III raggio sx.1</th>\n",
       "      <th>IV raggio sx.1</th>\n",
       "      <th>V raggio sx.1</th>\n",
       "      <th>Art. coxo-femorale dx</th>\n",
       "      <th>Art. coxo-femorale sx</th>\n",
       "      <th>Rotula o Ginocchio dx</th>\n",
       "      <th>Rotula o Ginocchio sx</th>\n",
       "      <th>Caviglia dx</th>\n",
       "      <th>Caviglia sx</th>\n",
       "    </tr>\n",
       "  </thead>\n",
       "  <tbody>\n",
       "    <tr>\n",
       "      <th>0</th>\n",
       "      <td>0</td>\n",
       "      <td>81</td>\n",
       "      <td>175</td>\n",
       "      <td>175</td>\n",
       "      <td>1</td>\n",
       "      <td>0</td>\n",
       "      <td>0</td>\n",
       "      <td>0</td>\n",
       "      <td>1</td>\n",
       "      <td>0</td>\n",
       "      <td>...</td>\n",
       "      <td>0</td>\n",
       "      <td>0</td>\n",
       "      <td>0</td>\n",
       "      <td>0</td>\n",
       "      <td>0</td>\n",
       "      <td>0</td>\n",
       "      <td>0</td>\n",
       "      <td>0</td>\n",
       "      <td>0</td>\n",
       "      <td>0</td>\n",
       "    </tr>\n",
       "    <tr>\n",
       "      <th>1</th>\n",
       "      <td>1</td>\n",
       "      <td>69</td>\n",
       "      <td>162</td>\n",
       "      <td>162</td>\n",
       "      <td>4</td>\n",
       "      <td>4</td>\n",
       "      <td>4</td>\n",
       "      <td>4</td>\n",
       "      <td>4</td>\n",
       "      <td>3</td>\n",
       "      <td>...</td>\n",
       "      <td>0</td>\n",
       "      <td>0</td>\n",
       "      <td>0</td>\n",
       "      <td>0</td>\n",
       "      <td>0</td>\n",
       "      <td>0</td>\n",
       "      <td>0</td>\n",
       "      <td>0</td>\n",
       "      <td>0</td>\n",
       "      <td>0</td>\n",
       "    </tr>\n",
       "    <tr>\n",
       "      <th>2</th>\n",
       "      <td>1</td>\n",
       "      <td>71</td>\n",
       "      <td>155</td>\n",
       "      <td>155</td>\n",
       "      <td>2</td>\n",
       "      <td>0</td>\n",
       "      <td>1</td>\n",
       "      <td>1</td>\n",
       "      <td>2</td>\n",
       "      <td>0</td>\n",
       "      <td>...</td>\n",
       "      <td>0</td>\n",
       "      <td>0</td>\n",
       "      <td>0</td>\n",
       "      <td>0</td>\n",
       "      <td>0</td>\n",
       "      <td>0</td>\n",
       "      <td>0</td>\n",
       "      <td>0</td>\n",
       "      <td>0</td>\n",
       "      <td>0</td>\n",
       "    </tr>\n",
       "    <tr>\n",
       "      <th>3</th>\n",
       "      <td>1</td>\n",
       "      <td>54</td>\n",
       "      <td>159</td>\n",
       "      <td>159</td>\n",
       "      <td>4</td>\n",
       "      <td>0</td>\n",
       "      <td>0</td>\n",
       "      <td>1</td>\n",
       "      <td>0</td>\n",
       "      <td>2</td>\n",
       "      <td>...</td>\n",
       "      <td>0</td>\n",
       "      <td>0</td>\n",
       "      <td>0</td>\n",
       "      <td>0</td>\n",
       "      <td>0</td>\n",
       "      <td>0</td>\n",
       "      <td>0</td>\n",
       "      <td>0</td>\n",
       "      <td>0</td>\n",
       "      <td>0</td>\n",
       "    </tr>\n",
       "    <tr>\n",
       "      <th>4</th>\n",
       "      <td>1</td>\n",
       "      <td>78</td>\n",
       "      <td>167</td>\n",
       "      <td>167</td>\n",
       "      <td>2</td>\n",
       "      <td>0</td>\n",
       "      <td>0</td>\n",
       "      <td>0</td>\n",
       "      <td>0</td>\n",
       "      <td>0</td>\n",
       "      <td>...</td>\n",
       "      <td>0</td>\n",
       "      <td>0</td>\n",
       "      <td>0</td>\n",
       "      <td>0</td>\n",
       "      <td>0</td>\n",
       "      <td>0</td>\n",
       "      <td>0</td>\n",
       "      <td>0</td>\n",
       "      <td>0</td>\n",
       "      <td>0</td>\n",
       "    </tr>\n",
       "  </tbody>\n",
       "</table>\n",
       "<p>5 rows × 363 columns</p>\n",
       "</div>"
      ],
      "text/plain": [
       "   SESSO  ANNI  PESO  ALTEZZA  Testa:Neurocranio  Testa:Splancnocranio  \\\n",
       "0      0    81   175      175                  1                     0   \n",
       "1      1    69   162      162                  4                     4   \n",
       "2      1    71   155      155                  2                     0   \n",
       "3      1    54   159      159                  4                     0   \n",
       "4      1    78   167      167                  2                     0   \n",
       "\n",
       "   Testa:Telencefalo  Testa:Cervelletto  Testa:Tronco encefalico  \\\n",
       "0                  0                  0                        1   \n",
       "1                  4                  4                        4   \n",
       "2                  1                  1                        2   \n",
       "3                  0                  1                        0   \n",
       "4                  0                  0                        0   \n",
       "\n",
       "   Torace:Polmoni  ...  II raggio sx.1  III raggio sx.1  IV raggio sx.1  \\\n",
       "0               0  ...               0                0               0   \n",
       "1               3  ...               0                0               0   \n",
       "2               0  ...               0                0               0   \n",
       "3               2  ...               0                0               0   \n",
       "4               0  ...               0                0               0   \n",
       "\n",
       "   V raggio sx.1  Art. coxo-femorale dx  Art. coxo-femorale sx  \\\n",
       "0              0                      0                      0   \n",
       "1              0                      0                      0   \n",
       "2              0                      0                      0   \n",
       "3              0                      0                      0   \n",
       "4              0                      0                      0   \n",
       "\n",
       "   Rotula o Ginocchio dx  Rotula o Ginocchio sx  Caviglia dx  Caviglia sx  \n",
       "0                      0                      0            0            0  \n",
       "1                      0                      0            0            0  \n",
       "2                      0                      0            0            0  \n",
       "3                      0                      0            0            0  \n",
       "4                      0                      0            0            0  \n",
       "\n",
       "[5 rows x 363 columns]"
      ]
     },
     "execution_count": 6,
     "metadata": {},
     "output_type": "execute_result"
    }
   ],
   "source": [
    "X.head()"
   ]
  },
  {
   "cell_type": "code",
   "execution_count": 7,
   "metadata": {},
   "outputs": [
    {
     "data": {
      "text/plain": [
       "SESSO                    int64\n",
       "ANNI                     int64\n",
       "PESO                     int64\n",
       "ALTEZZA                  int64\n",
       "Testa:Neurocranio        int64\n",
       "                         ...  \n",
       "Art. coxo-femorale sx    int64\n",
       "Rotula o Ginocchio dx    int64\n",
       "Rotula o Ginocchio sx    int64\n",
       "Caviglia dx              int64\n",
       "Caviglia sx              int64\n",
       "Length: 363, dtype: object"
      ]
     },
     "execution_count": 7,
     "metadata": {},
     "output_type": "execute_result"
    }
   ],
   "source": [
    "X.dtypes"
   ]
  },
  {
   "cell_type": "code",
   "execution_count": 14,
   "metadata": {},
   "outputs": [
    {
     "data": {
      "text/plain": [
       "<AxesSubplot:ylabel='Frequency'>"
      ]
     },
     "execution_count": 14,
     "metadata": {},
     "output_type": "execute_result"
    },
    {
     "data": {
      "image/png": "[encoded data removed]",
      "text/plain": [
       "<Figure size 640x480 with 1 Axes>"
      ]
     },
     "metadata": {},
     "output_type": "display_data"
    }
   ],
   "source": [
    "X['Tot Addome'].plot.hist()"
   ]
  },
  {
   "cell_type": "code",
   "execution_count": 17,
   "metadata": {},
   "outputs": [
    {
     "data": {
      "text/plain": [
       "<AxesSubplot:ylabel='Frequency'>"
      ]
     },
     "execution_count": 17,
     "metadata": {},
     "output_type": "execute_result"
    },
    {
     "data": {
      "image/png": "[encoded data removed]",
      "text/plain": [
       "<Figure size 640x480 with 1 Axes>"
      ]
     },
     "metadata": {},
     "output_type": "display_data"
    }
   ],
   "source": [
    "X['Tot Testa'].plot.hist()"
   ]
  },
  {
   "cell_type": "code",
   "execution_count": 18,
   "metadata": {},
   "outputs": [
    {
     "data": {
      "text/plain": [
       "<matplotlib.collections.PathCollection at 0x7f7d9f569be0>"
      ]
     },
     "execution_count": 18,
     "metadata": {},
     "output_type": "execute_result"
    },
    {
     "data": {
      "image/png": "[encoded data removed]",
      "text/plain": [
       "<Figure size 640x480 with 1 Axes>"
      ]
     },
     "metadata": {},
     "output_type": "display_data"
    }
   ],
   "source": [
    "import matplotlib.pyplot as plt \n",
    "\n",
    "plt.scatter(X['Tot Addome'], X['Tot Testa'])"
   ]
  },
  {
   "cell_type": "code",
   "execution_count": 31,
   "metadata": {},
   "outputs": [
    {
     "data": {
      "text/plain": [
       "['SESSO',\n",
       " 'ANNI',\n",
       " 'PESO',\n",
       " 'ALTEZZA',\n",
       " 'Tot Testa',\n",
       " 'Tot Torace',\n",
       " 'Tot Addome',\n",
       " 'Tot Scheletro',\n",
       " 'Tot Volta Cranica',\n",
       " 'Tot Base Cranica',\n",
       " 'Tot Neuroc.',\n",
       " 'Tot Splancnoc.',\n",
       " 'Tot Tratto cervicale',\n",
       " 'Tot Tratto toracico',\n",
       " 'Tot Tratto lombare',\n",
       " 'Tot Rachide',\n",
       " 'Totale coste',\n",
       " 'Tot Bacino']"
      ]
     },
     "execution_count": 31,
     "metadata": {},
     "output_type": "execute_result"
    }
   ],
   "source": [
    "columns_to_mantain = ['SESSO', 'ANNI', 'PESO', 'ALTEZZA', 'Tot Testa', 'Tot Torace', 'Tot Addome',\n",
    "                       'Tot Scheletro', 'Tot Volta Cranica', 'Tot Base Cranica', 'Tot Neuroc.', \n",
    "                       'Tot Splancnoc.', 'Tot Tratto cervicale', 'Tot Tratto toracico', 'Tot Tratto lombare', \n",
    "                       'Tot Rachide', 'Totale coste', 'Tot Bacino']\n",
    "columns_to_mantain"
   ]
  },
  {
   "cell_type": "markdown",
   "metadata": {},
   "source": [
    "Queste sono alcune colonne che fanno riferimento alla somma dei valori in colonne precedenti."
   ]
  },
  {
   "cell_type": "code",
   "execution_count": 44,
   "metadata": {},
   "outputs": [
    {
     "data": {
      "text/plain": [
       "(['L4',\n",
       "  'L5',\n",
       "  'I metacarpo dx',\n",
       "  'II metacarpo dx',\n",
       "  'III metacarpo dx',\n",
       "  'I raggio dx',\n",
       "  'II raggio dx',\n",
       "  'IV raggio dx',\n",
       "  'V raggio dx',\n",
       "  'I metacarpo sx',\n",
       "  'II metacarpo sx',\n",
       "  'III metacarpo sx',\n",
       "  'IV metacarpo sx',\n",
       "  'I raggio sx',\n",
       "  'II raggio sx',\n",
       "  'IV raggio sx',\n",
       "  'Polso dx',\n",
       "  'tarso dx',\n",
       "  'I metatarso dx',\n",
       "  'II metatarso dx',\n",
       "  'III metatarso dx',\n",
       "  'IV metatarso dx',\n",
       "  'V metatarso dx',\n",
       "  'I raggio dx.1',\n",
       "  'II raggio dx.1',\n",
       "  'III raggio dx.1',\n",
       "  'IV raggio dx.1',\n",
       "  'V raggio dx.1',\n",
       "  'I metatarso sx',\n",
       "  'II metatarso sx',\n",
       "  'III metatarso sx',\n",
       "  'IV metatarso sx',\n",
       "  'V metatarso sx',\n",
       "  'I raggio sx.1',\n",
       "  'II raggio sx.1',\n",
       "  'III raggio sx.1',\n",
       "  'IV raggio sx.1',\n",
       "  'V raggio sx.1',\n",
       "  'Art. coxo-femorale sx',\n",
       "  'Caviglia sx'],\n",
       " 40)"
      ]
     },
     "execution_count": 44,
     "metadata": {},
     "output_type": "execute_result"
    }
   ],
   "source": [
    "def low_std_cols(X, beta):\n",
    "    columns_low_std = []\n",
    "    for column in X.columns:\n",
    "        if X[column].std() <= beta:\n",
    "            columns_low_std.append(column)\n",
    "\n",
    "    return columns_low_std, len(columns_low_std)\n",
    "\n",
    "low_std_cols(X, 0)"
   ]
  },
  {
   "cell_type": "code",
   "execution_count": 49,
   "metadata": {},
   "outputs": [
    {
     "data": {
      "text/plain": [
       "(['L4',\n",
       "  'L5',\n",
       "  'I metacarpo dx',\n",
       "  'II metacarpo dx',\n",
       "  'III metacarpo dx',\n",
       "  'I raggio dx',\n",
       "  'II raggio dx',\n",
       "  'IV raggio dx',\n",
       "  'V raggio dx',\n",
       "  'I metacarpo sx',\n",
       "  'II metacarpo sx',\n",
       "  'III metacarpo sx',\n",
       "  'IV metacarpo sx',\n",
       "  'I raggio sx',\n",
       "  'II raggio sx',\n",
       "  'IV raggio sx',\n",
       "  'Polso dx',\n",
       "  'tarso dx',\n",
       "  'I metatarso dx',\n",
       "  'II metatarso dx',\n",
       "  'III metatarso dx',\n",
       "  'IV metatarso dx',\n",
       "  'V metatarso dx',\n",
       "  'I raggio dx.1',\n",
       "  'II raggio dx.1',\n",
       "  'III raggio dx.1',\n",
       "  'IV raggio dx.1',\n",
       "  'V raggio dx.1',\n",
       "  'I metatarso sx',\n",
       "  'II metatarso sx',\n",
       "  'III metatarso sx',\n",
       "  'IV metatarso sx',\n",
       "  'V metatarso sx',\n",
       "  'I raggio sx.1',\n",
       "  'II raggio sx.1',\n",
       "  'III raggio sx.1',\n",
       "  'IV raggio sx.1',\n",
       "  'V raggio sx.1',\n",
       "  'Art. coxo-femorale sx',\n",
       "  'Caviglia sx'],\n",
       " True)"
      ]
     },
     "execution_count": 49,
     "metadata": {},
     "output_type": "execute_result"
    }
   ],
   "source": [
    "def zero_columns(X):\n",
    "    zero_cols = []\n",
    "    cols, n = low_std_cols(X, 0)\n",
    "\n",
    "    for col in cols:\n",
    "        if sum(X[col]) == 0:\n",
    "            zero_cols.append(col)\n",
    "    \n",
    "    return zero_cols, (len(zero_cols) == n)\n",
    "\n",
    "zero_columns(X)"
   ]
  },
  {
   "cell_type": "markdown",
   "metadata": {},
   "source": [
    "Queste colonne nel dataset hanno tutti i valori a 0: si possono eliminare."
   ]
  },
  {
   "cell_type": "code",
   "execution_count": null,
   "metadata": {},
   "outputs": [],
   "source": []
  }
 ],
 "metadata": {
  "kernelspec": {
   "display_name": "base",
   "language": "python",
   "name": "python3"
  },
  "language_info": {
   "codemirror_mode": {
    "name": "ipython",
    "version": 3
   },
   "file_extension": ".py",
   "mimetype": "text/x-python",
   "name": "python",
   "nbconvert_exporter": "python",
   "pygments_lexer": "ipython3",
   "version": "3.9.13"
  }
 },
 "nbformat": 4,
 "nbformat_minor": 2
}
