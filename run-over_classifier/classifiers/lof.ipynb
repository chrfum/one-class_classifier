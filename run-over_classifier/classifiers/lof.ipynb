{
 "cells": [
  {
   "cell_type": "code",
   "execution_count": 1,
   "metadata": {},
   "outputs": [],
   "source": [
    "import pandas as pd\n",
    "import numpy as np \n",
    "import matplotlib.pyplot as plt \n",
    "from sklearn.neighbors import LocalOutlierFactor\n",
    "from sklearn.model_selection import StratifiedKFold\n",
    "from sklearn.metrics import f1_score, precision_score, recall_score, accuracy_score\n",
    "from sklearn.decomposition import PCA\n",
    "from sklearn.preprocessing import StandardScaler, MinMaxScaler, RobustScaler\n",
    "from sklearn.pipeline import Pipeline\n",
    "import itertools\n",
    "import pickle\n",
    "import logging\n",
    "from logging.handlers import RotatingFileHandler"
   ]
  },
  {
   "cell_type": "code",
   "execution_count": 2,
   "metadata": {},
   "outputs": [
    {
     "name": "stdout",
     "output_type": "stream",
     "text": [
      "(130, 367)\n",
      "(130, 326)\n",
      "(130, 274)\n"
     ]
    }
   ],
   "source": [
    "df = pd.read_csv(\"../data/run-over-dataset.csv\")\n",
    "print(df.shape)\n",
    "\n",
    "columns_to_drop = ['VERBALE', 'DATA', 'Tot Testa', 'Tot Torace', 'Tot Addome', 'Tot Scheletro',\n",
    "                    'Totale', 'Tot Volta cranica', 'Tot Base cranica', \n",
    "                    'Tot Neuroc.', 'Tot Splancnoc.', 'Tot Testa',\n",
    "                    'Tot Tratto toracico', 'Tot Tratto lombare', 'Tot Rachide',\n",
    "                    ' Totale coste', 'Sterno in toto', 'Tot Bacino', 'I costa dx', 'II costa dx',\n",
    "                    'III costa dx', 'IV costa dx', 'V costa dx', 'VI costa dx', 'VII costa dx', \n",
    "                    'VIII costa dx', 'IX costa dx', 'X costa dx', 'XI costa dx', 'XII costa dx',\n",
    "                    'I costa sx', 'II costa sx', 'III costa sx', 'IV costa sx', 'V costa sx', \n",
    "                    'VI costa sx', 'VII costa sx', 'VIII costa sx', 'IX costa sx', \n",
    "                    'X costa sx', 'XI costa sx', 'XII costa sx']\n",
    "\n",
    "X = df.drop(columns=columns_to_drop)\n",
    "print(X.shape)\n",
    "\n",
    "X['ALTEZZA'] = [int(float(h.replace(',', '.'))*100) for h in X['ALTEZZA']]\n",
    "X['PESO'] = [int(float(str(h).replace(',', '.'))) for h in X['PESO']]\n",
    "X['BMI'] = [float(str(h).replace(',', '.')) for h in X['BMI']]\n",
    "\n",
    "num_unique_values = X.nunique()\n",
    "constant_columns = num_unique_values[num_unique_values == 1].index.tolist()\n",
    "\n",
    "X = X.drop(columns=constant_columns)\n",
    "X = X.T.drop_duplicates().T\n",
    "print(X.shape)"
   ]
  },
  {
   "cell_type": "code",
   "execution_count": 4,
   "metadata": {},
   "outputs": [],
   "source": [
    "random_seed = 2456871"
   ]
  },
  {
   "cell_type": "code",
   "execution_count": 5,
   "metadata": {},
   "outputs": [],
   "source": [
    "def add_record(df, record):\n",
    "    new_record = pd.DataFrame(record, index=[0])\n",
    "    df = pd.concat([df, new_record], ignore_index=True)\n",
    "    return df  "
   ]
  },
  {
   "cell_type": "code",
   "execution_count": null,
   "metadata": {},
   "outputs": [],
   "source": []
  }
 ],
 "metadata": {
  "kernelspec": {
   "display_name": "base",
   "language": "python",
   "name": "python3"
  },
  "language_info": {
   "codemirror_mode": {
    "name": "ipython",
    "version": 3
   },
   "file_extension": ".py",
   "mimetype": "text/x-python",
   "name": "python",
   "nbconvert_exporter": "python",
   "pygments_lexer": "ipython3",
   "version": "3.9.13"
  }
 },
 "nbformat": 4,
 "nbformat_minor": 2
}
